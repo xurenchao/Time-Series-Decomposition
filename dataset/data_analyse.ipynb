{
 "cells": [
  {
   "cell_type": "code",
   "execution_count": 1,
   "metadata": {},
   "outputs": [],
   "source": [
    "import os\n",
    "\n",
    "import numpy as np\n",
    "import pandas as pd\n",
    "from pandas.tseries.offsets import Day\n",
    "import statsmodels.api as sm\n",
    "import matplotlib.pyplot as plt\n",
    "import types"
   ]
  },
  {
   "cell_type": "code",
   "execution_count": 2,
   "metadata": {},
   "outputs": [],
   "source": [
    "DIR = os.path.dirname('/home/xurenchao/work/rnn/Time-Series-Decomposition/dataset/')"
   ]
  },
  {
   "cell_type": "code",
   "execution_count": 3,
   "metadata": {},
   "outputs": [],
   "source": [
    "from dataset.spot import DailyDataset, PeriodDataset, get_loader, TOTAL_STD, TOTAL_MEAN"
   ]
  },
  {
   "cell_type": "code",
   "execution_count": 4,
   "metadata": {},
   "outputs": [
    {
     "name": "stdout",
     "output_type": "stream",
     "text": [
      "Data build range: [window(2012-09-04 00:00:00) - 2012-09-18 00:00:00, 2015-12-31 00:00:00]\n"
     ]
    }
   ],
   "source": [
    "data=DailyDataset()"
   ]
  },
  {
   "cell_type": "code",
   "execution_count": 5,
   "metadata": {},
   "outputs": [],
   "source": [
    "p,x,y = data.get_io('2011-06-30', '2015-12-31')"
   ]
  },
  {
   "cell_type": "code",
   "execution_count": 6,
   "metadata": {},
   "outputs": [
    {
     "data": {
      "text/plain": [
       "(1659, 24)"
      ]
     },
     "execution_count": 6,
     "metadata": {},
     "output_type": "execute_result"
    }
   ],
   "source": [
    "p[1:].shape"
   ]
  },
  {
   "cell_type": "code",
   "execution_count": 7,
   "metadata": {},
   "outputs": [
    {
     "data": {
      "text/plain": [
       "tensor([[ 0.4783,  0.5354,  0.0702,  ...,  0.1712,  0.5081,  0.3952],\n",
       "        [ 0.4238,  0.4782, -0.2865,  ...,  0.2381,  0.6832,  0.4508],\n",
       "        [ 0.6176, -0.0185, -0.8214,  ..., -1.3710,  0.2882,  0.2134],\n",
       "        ...,\n",
       "        [-0.4600, -0.3198, -0.4556,  ..., -0.6700, -0.6972, -0.6560],\n",
       "        [-0.5353, -0.5503, -0.5568,  ..., -0.3176, -0.3739, -0.3885],\n",
       "        [-0.3514, -0.1878, -0.0962,  ..., -0.3832, -0.7491, -0.3608]])"
      ]
     },
     "execution_count": 7,
     "metadata": {},
     "output_type": "execute_result"
    }
   ],
   "source": [
    "x"
   ]
  },
  {
   "cell_type": "code",
   "execution_count": 8,
   "metadata": {},
   "outputs": [
    {
     "data": {
      "text/plain": [
       "tensor([[ 0.4238,  0.4782, -0.2865,  ...,  0.2381,  0.6832,  0.4508],\n",
       "        [ 0.6176, -0.0185, -0.8214,  ..., -1.3710,  0.2882,  0.2134],\n",
       "        [-1.1825, -1.0217, -0.9145,  ..., -0.2191,  0.1257, -0.1344],\n",
       "        ...,\n",
       "        [-0.5353, -0.5503, -0.5568,  ..., -0.3176, -0.3739, -0.3885],\n",
       "        [-0.3514, -0.1878, -0.0962,  ..., -0.3832, -0.7491, -0.3608],\n",
       "        [-0.2119, -0.8389, -0.7917,  ..., -0.7391, -0.7557, -0.5332]])"
      ]
     },
     "execution_count": 8,
     "metadata": {},
     "output_type": "execute_result"
    }
   ],
   "source": [
    "y"
   ]
  },
  {
   "cell_type": "code",
   "execution_count": null,
   "metadata": {},
   "outputs": [],
   "source": []
  }
 ],
 "metadata": {
  "kernelspec": {
   "display_name": "Python 3",
   "language": "python",
   "name": "python3"
  },
  "language_info": {
   "codemirror_mode": {
    "name": "ipython",
    "version": 3
   },
   "file_extension": ".py",
   "mimetype": "text/x-python",
   "name": "python",
   "nbconvert_exporter": "python",
   "pygments_lexer": "ipython3",
   "version": "3.5.6"
  }
 },
 "nbformat": 4,
 "nbformat_minor": 2
}
